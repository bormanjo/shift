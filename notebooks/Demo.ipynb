{
 "cells": [
  {
   "cell_type": "code",
   "execution_count": null,
   "metadata": {},
   "outputs": [],
   "source": [
    "import shift\n",
    "import sys\n",
    "import time"
   ]
  },
  {
   "cell_type": "code",
   "execution_count": null,
   "metadata": {},
   "outputs": [],
   "source": [
    "# create trader object\n",
    "trader = shift.Trader(\"democlient\")"
   ]
  },
  {
   "cell_type": "code",
   "execution_count": null,
   "metadata": {},
   "outputs": [],
   "source": [
    "# connect\n",
    "trader.connect(\"initiator.cfg\", \"password\")"
   ]
  },
  {
   "cell_type": "code",
   "execution_count": null,
   "metadata": {},
   "outputs": [],
   "source": [
    "# subscribe to all available order books\n",
    "trader.subAllOrderBook()"
   ]
  },
  {
   "cell_type": "code",
   "execution_count": null,
   "metadata": {},
   "outputs": [],
   "source": [
    "# submit a limit buy order by indicating order type, symbol, size, and limit price.\n",
    "limit_buy = shift.Order(shift.Order.LIMIT_BUY, \"AAPL\", 1, 10.00)\n",
    "trader.submitOrder(limit_buy)"
   ]
  },
  {
   "cell_type": "code",
   "execution_count": null,
   "metadata": {},
   "outputs": [],
   "source": [
    "# submit 2 limit buy orders by indicating order type, symbol, size, and limit price.\n",
    "aapl_limit_buy = shift.Order(shift.Order.LIMIT_BUY, \"AAPL\", 10, 10.00)\n",
    "trader.submitOrder(aapl_limit_buy)\n",
    "\n",
    "xom_limit_buy = shift.Order(shift.Order.LIMIT_BUY, \"XOM\", 10, 10.00)\n",
    "trader.submitOrder(xom_limit_buy)"
   ]
  },
  {
   "cell_type": "code",
   "execution_count": null,
   "metadata": {},
   "outputs": [],
   "source": [
    "# print the local bid order book for AAPL\n",
    "print(\"AAPL:\")\n",
    "print(\"  Price\\t\\tSize\\t  Dest\\t\\tTime\")\n",
    "for order in trader.getOrderBook(\"AAPL\", shift.OrderBookType.LOCAL_BID):\n",
    "    print(\"%7.2f\\t\\t%4d\\t%6s\\t\\t%19s\" %\n",
    "          (order.price, order.size, order.destination, order.time))"
   ]
  },
  {
   "cell_type": "code",
   "execution_count": null,
   "metadata": {},
   "outputs": [],
   "source": [
    "# print the local bid order book for XOM\n",
    "print(\"XOM:\")\n",
    "print(\"  Price\\t\\tSize\\t  Dest\\t\\tTime\")\n",
    "for order in trader.getOrderBook(\"XOM\", shift.OrderBookType.LOCAL_BID):\n",
    "    print(\"%7.2f\\t\\t%4d\\t%6s\\t\\t%19s\" %\n",
    "          (order.price, order.size, order.destination, order.time))"
   ]
  },
  {
   "cell_type": "code",
   "execution_count": null,
   "metadata": {},
   "outputs": [],
   "source": [
    "# print all current waiting orders information\n",
    "print(\"Symbol\\t\\t\\t Type\\t  Price\\t\\tSize\\tID\\t\\t\\t\\t\\tTimestamp\")\n",
    "for order in trader.getWaitingList():\n",
    "    print(\"%6s\\t%21s\\t%7.2f\\t\\t%4d\\t%36s\\t%26s\" %\n",
    "          (order.symbol, order.type, order.price, order.size, order.id, order.timestamp))"
   ]
  },
  {
   "cell_type": "code",
   "execution_count": null,
   "metadata": {},
   "outputs": [],
   "source": [
    "# cancel all pending orders\n",
    "trader.cancelAllPendingOrders()"
   ]
  },
  {
   "cell_type": "code",
   "execution_count": null,
   "metadata": {},
   "outputs": [],
   "source": [
    "# print all current waiting orders information\n",
    "print(\"Symbol\\t\\t\\t Type\\t  Price\\t\\tSize\\tID\\t\\t\\t\\t\\tTimestamp\")\n",
    "for order in trader.getWaitingList():\n",
    "    print(\"%6s\\t%21s\\t%7.2f\\t\\t%4d\\t%36s\\t%26s\" %\n",
    "          (order.symbol, order.type, order.price, order.size, order.id, order.timestamp))"
   ]
  },
  {
   "cell_type": "code",
   "execution_count": null,
   "metadata": {},
   "outputs": [],
   "source": [
    "# submit 2 market buy orders\n",
    "aapl_market_buy = shift.Order(shift.Order.MARKET_BUY, \"AAPL\", 1)\n",
    "trader.submitOrder(aapl_market_buy)\n",
    "\n",
    "xom_market_buy = shift.Order(shift.Order.MARKET_BUY, \"XOM\", 1)\n",
    "trader.submitOrder(xom_market_buy)"
   ]
  },
  {
   "cell_type": "code",
   "execution_count": null,
   "metadata": {},
   "outputs": [],
   "source": [
    "# print current portfolio summary information\n",
    "print(\"Buying Power\\tTotal Shares\\tTotal P&L\\tTimestamp\")\n",
    "print(\"%12.2f\\t%12d\\t%9.2f\\t%26s\" % (trader.getPortfolioSummary().getTotalBP(),\n",
    "                                     trader.getPortfolioSummary().getTotalShares(),\n",
    "                                     trader.getPortfolioSummary().getTotalRealizedPL(),\n",
    "                                     trader.getPortfolioSummary().getTimestamp()))"
   ]
  },
  {
   "cell_type": "code",
   "execution_count": null,
   "metadata": {},
   "outputs": [],
   "source": [
    "# print current portfolio items information\n",
    "print(\"Symbol\\t\\tShares\\t    Price\\t    P&L\\t\\tTimestamp\")\n",
    "for item in trader.getPortfolioItems().values():\n",
    "    print(\"%6s\\t\\t%6d\\t%9.2f\\t%7.2f\\t\\t%26s\" %\n",
    "          (item.getSymbol(), item.getShares(), item.getPrice(), item.getRealizedPL(), item.getTimestamp()))"
   ]
  },
  {
   "cell_type": "code",
   "execution_count": null,
   "metadata": {},
   "outputs": [],
   "source": [
    "# submit 2 market sell orders\n",
    "aapl_market_sell = shift.Order(shift.Order.MARKET_SELL, \"AAPL\", 1)\n",
    "trader.submitOrder(aapl_market_sell)\n",
    "\n",
    "xom_market_sell = shift.Order(shift.Order.MARKET_SELL, \"XOM\", 1)\n",
    "trader.submitOrder(xom_market_sell)"
   ]
  },
  {
   "cell_type": "code",
   "execution_count": null,
   "metadata": {},
   "outputs": [],
   "source": [
    "# print current portfolio summary information\n",
    "print(\"Buying Power\\tTotal Shares\\tTotal P&L\\tTimestamp\")\n",
    "print(\"%12.2f\\t%12d\\t%9.2f\\t%26s\" % (trader.getPortfolioSummary().getTotalBP(),\n",
    "                                     trader.getPortfolioSummary().getTotalShares(),\n",
    "                                     trader.getPortfolioSummary().getTotalRealizedPL(),\n",
    "                                     trader.getPortfolioSummary().getTimestamp()))"
   ]
  },
  {
   "cell_type": "code",
   "execution_count": null,
   "metadata": {},
   "outputs": [],
   "source": [
    "# print current portfolio items information\n",
    "print(\"Symbol\\t\\tShares\\t    Price\\t    P&L\\t\\tTimestamp\")\n",
    "for item in trader.getPortfolioItems().values():\n",
    "    print(\"%6s\\t\\t%6d\\t%9.2f\\t%7.2f\\t\\t%26s\" %\n",
    "          (item.getSymbol(), item.getShares(), item.getPrice(), item.getRealizedPL(), item.getTimestamp()))"
   ]
  },
  {
   "cell_type": "code",
   "execution_count": null,
   "metadata": {},
   "outputs": [],
   "source": [
    "# print all submitted orders information\n",
    "print(\"Symbol\\t\\t\\t Type\\t  Price\\t\\tSize\\tID\\t\\t\\t\\t\\tTimestamp\")\n",
    "for order in trader.getSubmittedOrders():\n",
    "    print(\"%6s\\t%21s\\t%7.2f\\t\\t%4d\\t%36s\\t%26s\" %\n",
    "          (order.symbol, order.type, order.price, order.size, order.id, order.timestamp))"
   ]
  },
  {
   "cell_type": "code",
   "execution_count": null,
   "metadata": {},
   "outputs": [],
   "source": [
    "# print the global bid order book for AAPL\n",
    "print(\"AAPL:\")\n",
    "print(\"  Price\\t\\tSize\\t  Dest\\t\\tTime\")\n",
    "for order in trader.getOrderBook(\"AAPL\", shift.OrderBookType.GLOBAL_BID, 5):\n",
    "    print(\"%7.2f\\t\\t%4d\\t%6s\\t\\t%19s\" %\n",
    "          (order.price, order.size, order.destination, order.time))"
   ]
  },
  {
   "cell_type": "code",
   "execution_count": null,
   "metadata": {},
   "outputs": [],
   "source": [
    "# disconnect\n",
    "trader.disconnect()"
   ]
  },
  {
   "cell_type": "code",
   "execution_count": null,
   "metadata": {},
   "outputs": [],
   "source": []
  }
 ],
 "metadata": {
  "kernelspec": {
   "display_name": "Python 3",
   "language": "python",
   "name": "python3"
  },
  "language_info": {
   "codemirror_mode": {
    "name": "ipython",
    "version": 3
   },
   "file_extension": ".py",
   "mimetype": "text/x-python",
   "name": "python",
   "nbconvert_exporter": "python",
   "pygments_lexer": "ipython3",
   "version": "3.6.8"
  }
 },
 "nbformat": 4,
 "nbformat_minor": 2
}
