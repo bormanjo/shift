{
 "cells": [
  {
   "cell_type": "markdown",
   "metadata": {},
   "source": [
    "# Assignment #1\n",
    "John-Craig Borman\n",
    "\n",
    "3/13/19\n",
    "\n",
    "QF 302\n",
    "\n",
    "## Problem 1\n",
    "\n",
    "> Collect the bid/ask spread of Netflix's stock price using the SHIFT system with $T = 120$ and $\\Delta t = 5$ seconds:"
   ]
  },
  {
   "cell_type": "code",
   "execution_count": 57,
   "metadata": {},
   "outputs": [],
   "source": [
    "import shift\n",
    "import time\n",
    "import pandas as pd\n",
    "\n",
    "debug = True"
   ]
  },
  {
   "cell_type": "code",
   "execution_count": 58,
   "metadata": {},
   "outputs": [
    {
     "data": {
      "text/plain": [
       "True"
      ]
     },
     "execution_count": 58,
     "metadata": {},
     "output_type": "execute_result"
    }
   ],
   "source": [
    "trader = shift.Trader(\"jborman\")\n",
    "trader.connect(\"initiator.cfg\", \"hR7fgSbU\")"
   ]
  },
  {
   "cell_type": "code",
   "execution_count": 59,
   "metadata": {},
   "outputs": [
    {
     "data": {
      "text/plain": [
       "True"
      ]
     },
     "execution_count": 59,
     "metadata": {},
     "output_type": "execute_result"
    }
   ],
   "source": [
    "trader.subAllOrderBook()"
   ]
  },
  {
   "cell_type": "code",
   "execution_count": 60,
   "metadata": {},
   "outputs": [],
   "source": [
    "def get_data(ticker, interval=120, wait=5, trader=trader):\n",
    "    out = pd.DataFrame(columns=[\"Best\", \"Bid\", \"Ask\", \"bVolume\", \"aVolume\"])\n",
    "    \n",
    "    for i in range(interval):\n",
    "        if debug: print(\"loop {}\".format(i))\n",
    "            \n",
    "        bp = trader.getBestPrice(ticker)\n",
    "            \n",
    "        out.loc[i] = [\n",
    "            bp.,\n",
    "            bp.getGlobalBidPrice(), bp.getGlobalAskPrice(),\n",
    "            bp.getGlobalBidSize(), bp.getGlobalAskSize()\n",
    "        ]\n",
    "        \n",
    "        if i == interval - 1:\n",
    "            break\n",
    "        else:\n",
    "            time.sleep(wait)\n",
    "            \n",
    "    return out"
   ]
  },
  {
   "cell_type": "code",
   "execution_count": 61,
   "metadata": {
    "scrolled": false
   },
   "outputs": [
    {
     "name": "stdout",
     "output_type": "stream",
     "text": [
      "loop 0\n"
     ]
    },
    {
     "ename": "AttributeError",
     "evalue": "'shift.BestPrice' object has no attribute 'getBestPrice'",
     "output_type": "error",
     "traceback": [
      "\u001b[0;31m---------------------------------------------------------------------------\u001b[0m",
      "\u001b[0;31mAttributeError\u001b[0m                            Traceback (most recent call last)",
      "\u001b[0;32m<ipython-input-61-354e960afbba>\u001b[0m in \u001b[0;36m<module>\u001b[0;34m\u001b[0m\n\u001b[0;32m----> 1\u001b[0;31m \u001b[0mdf\u001b[0m \u001b[0;34m=\u001b[0m \u001b[0mget_data\u001b[0m\u001b[0;34m(\u001b[0m\u001b[0;34m\"NFLX\"\u001b[0m\u001b[0;34m)\u001b[0m\u001b[0;34m\u001b[0m\u001b[0;34m\u001b[0m\u001b[0m\n\u001b[0m\u001b[1;32m      2\u001b[0m \u001b[0mdf\u001b[0m\u001b[0;34m.\u001b[0m\u001b[0mhead\u001b[0m\u001b[0;34m(\u001b[0m\u001b[0;34m)\u001b[0m\u001b[0;34m\u001b[0m\u001b[0;34m\u001b[0m\u001b[0m\n",
      "\u001b[0;32m<ipython-input-60-1385b0f22624>\u001b[0m in \u001b[0;36mget_data\u001b[0;34m(ticker, interval, wait, trader)\u001b[0m\n\u001b[1;32m      8\u001b[0m \u001b[0;34m\u001b[0m\u001b[0m\n\u001b[1;32m      9\u001b[0m         out.loc[i] = [\n\u001b[0;32m---> 10\u001b[0;31m             \u001b[0mbp\u001b[0m\u001b[0;34m.\u001b[0m\u001b[0mgetBestPrice\u001b[0m\u001b[0;34m(\u001b[0m\u001b[0;34m)\u001b[0m\u001b[0;34m,\u001b[0m\u001b[0;34m\u001b[0m\u001b[0;34m\u001b[0m\u001b[0m\n\u001b[0m\u001b[1;32m     11\u001b[0m             \u001b[0mbp\u001b[0m\u001b[0;34m.\u001b[0m\u001b[0mgetGlobalBidPrice\u001b[0m\u001b[0;34m(\u001b[0m\u001b[0;34m)\u001b[0m\u001b[0;34m,\u001b[0m \u001b[0mbp\u001b[0m\u001b[0;34m.\u001b[0m\u001b[0mgetGlobalAskPrice\u001b[0m\u001b[0;34m(\u001b[0m\u001b[0;34m)\u001b[0m\u001b[0;34m,\u001b[0m\u001b[0;34m\u001b[0m\u001b[0;34m\u001b[0m\u001b[0m\n\u001b[1;32m     12\u001b[0m             \u001b[0mbp\u001b[0m\u001b[0;34m.\u001b[0m\u001b[0mgetGlobalBidSize\u001b[0m\u001b[0;34m(\u001b[0m\u001b[0;34m)\u001b[0m\u001b[0;34m,\u001b[0m \u001b[0mbp\u001b[0m\u001b[0;34m.\u001b[0m\u001b[0mgetGlobalAskSize\u001b[0m\u001b[0;34m(\u001b[0m\u001b[0;34m)\u001b[0m\u001b[0;34m\u001b[0m\u001b[0;34m\u001b[0m\u001b[0m\n",
      "\u001b[0;31mAttributeError\u001b[0m: 'shift.BestPrice' object has no attribute 'getBestPrice'"
     ]
    }
   ],
   "source": [
    "df = get_data(\"NFLX\")\n",
    "df.head()"
   ]
  },
  {
   "cell_type": "markdown",
   "metadata": {},
   "source": [
    "\n",
    "### 1.a\n",
    "\n",
    "**Present a table of summary statistics of $A_t$ and $B_t$**\n"
   ]
  },
  {
   "cell_type": "code",
   "execution_count": 56,
   "metadata": {
    "scrolled": true
   },
   "outputs": [
    {
     "data": {
      "text/html": [
       "<div>\n",
       "<style scoped>\n",
       "    .dataframe tbody tr th:only-of-type {\n",
       "        vertical-align: middle;\n",
       "    }\n",
       "\n",
       "    .dataframe tbody tr th {\n",
       "        vertical-align: top;\n",
       "    }\n",
       "\n",
       "    .dataframe thead th {\n",
       "        text-align: right;\n",
       "    }\n",
       "</style>\n",
       "<table border=\"1\" class=\"dataframe\">\n",
       "  <thead>\n",
       "    <tr style=\"text-align: right;\">\n",
       "      <th></th>\n",
       "      <th>Bid</th>\n",
       "      <th>Ask</th>\n",
       "    </tr>\n",
       "  </thead>\n",
       "  <tbody>\n",
       "    <tr>\n",
       "      <th>count</th>\n",
       "      <td>1.200000e+02</td>\n",
       "      <td>1.200000e+02</td>\n",
       "    </tr>\n",
       "    <tr>\n",
       "      <th>mean</th>\n",
       "      <td>3.366200e+02</td>\n",
       "      <td>3.369500e+02</td>\n",
       "    </tr>\n",
       "    <tr>\n",
       "      <th>std</th>\n",
       "      <td>1.712453e-13</td>\n",
       "      <td>1.141635e-13</td>\n",
       "    </tr>\n",
       "    <tr>\n",
       "      <th>min</th>\n",
       "      <td>3.366200e+02</td>\n",
       "      <td>3.369500e+02</td>\n",
       "    </tr>\n",
       "    <tr>\n",
       "      <th>25%</th>\n",
       "      <td>3.366200e+02</td>\n",
       "      <td>3.369500e+02</td>\n",
       "    </tr>\n",
       "    <tr>\n",
       "      <th>50%</th>\n",
       "      <td>3.366200e+02</td>\n",
       "      <td>3.369500e+02</td>\n",
       "    </tr>\n",
       "    <tr>\n",
       "      <th>75%</th>\n",
       "      <td>3.366200e+02</td>\n",
       "      <td>3.369500e+02</td>\n",
       "    </tr>\n",
       "    <tr>\n",
       "      <th>max</th>\n",
       "      <td>3.366200e+02</td>\n",
       "      <td>3.369500e+02</td>\n",
       "    </tr>\n",
       "  </tbody>\n",
       "</table>\n",
       "</div>"
      ],
      "text/plain": [
       "                Bid           Ask\n",
       "count  1.200000e+02  1.200000e+02\n",
       "mean   3.366200e+02  3.369500e+02\n",
       "std    1.712453e-13  1.141635e-13\n",
       "min    3.366200e+02  3.369500e+02\n",
       "25%    3.366200e+02  3.369500e+02\n",
       "50%    3.366200e+02  3.369500e+02\n",
       "75%    3.366200e+02  3.369500e+02\n",
       "max    3.366200e+02  3.369500e+02"
      ]
     },
     "execution_count": 56,
     "metadata": {},
     "output_type": "execute_result"
    }
   ],
   "source": [
    "df[[\"Bid\", \"Ask\"]].describe()"
   ]
  },
  {
   "cell_type": "markdown",
   "metadata": {},
   "source": [
    "\n",
    "### 1.b\n",
    "\n",
    "**Calculate $S^Q$, $S^E$ and $ILLIQ$ for the same data. Plot all three measures in a single graph with two y-axes.**\n",
    "\n",
    "$$ S^Q = \\frac{1}{T} \\sum_{t=1}^{T}(A_t - B_t) $$\n",
    "\n",
    "$$ S^E = \\frac{1}{T} \\sum_{t=1}^{T}(P_t - M_t); \\quad M_t = \\frac{1}{2}(A_t + B_t)$$\n",
    "    \n",
    "$$ ILLIQ = \\frac{1}{T} \\sum_{k=1}^{T} \\frac{|r_k|}{V_k} $$"
   ]
  },
  {
   "cell_type": "code",
   "execution_count": 62,
   "metadata": {},
   "outputs": [
    {
     "ename": "TypeError",
     "evalue": "'shift.BestPrice' object is not callable",
     "output_type": "error",
     "traceback": [
      "\u001b[0;31m---------------------------------------------------------------------------\u001b[0m",
      "\u001b[0;31mTypeError\u001b[0m                                 Traceback (most recent call last)",
      "\u001b[0;32m<ipython-input-62-a951b659fcd3>\u001b[0m in \u001b[0;36m<module>\u001b[0;34m\u001b[0m\n\u001b[0;32m----> 1\u001b[0;31m \u001b[0mbp\u001b[0m\u001b[0;34m(\u001b[0m\u001b[0;34m)\u001b[0m\u001b[0;34m\u001b[0m\u001b[0;34m\u001b[0m\u001b[0m\n\u001b[0m",
      "\u001b[0;31mTypeError\u001b[0m: 'shift.BestPrice' object is not callable"
     ]
    }
   ],
   "source": []
  },
  {
   "cell_type": "code",
   "execution_count": null,
   "metadata": {},
   "outputs": [],
   "source": []
  }
 ],
 "metadata": {
  "kernelspec": {
   "display_name": "Python 3",
   "language": "python",
   "name": "python3"
  },
  "language_info": {
   "codemirror_mode": {
    "name": "ipython",
    "version": 3
   },
   "file_extension": ".py",
   "mimetype": "text/x-python",
   "name": "python",
   "nbconvert_exporter": "python",
   "pygments_lexer": "ipython3",
   "version": "3.6.8"
  }
 },
 "nbformat": 4,
 "nbformat_minor": 2
}
